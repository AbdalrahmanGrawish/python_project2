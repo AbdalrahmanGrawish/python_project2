{
  "cells": [
    {
      "cell_type": "code",
      "execution_count": null,
      "metadata": {
        "id": "YY7Xg9smsEu0"
      },
      "outputs": [],
      "source": [
        "print('welcome to my island!')\n",
        "print('there are tow doors in front of you. a red door and a blue door')\n",
        "\n",
        "door_choice = input('whice door do you want to opened?').lower()\n",
        "\n",
        "# chec user choice\n",
        "\n",
        "if door_choice == 'red':\n",
        "  print('great! now you entered a rom')\n",
        "  print('you found three boxes white, black, green')\n",
        "  box_choice = input('white box do you open?').lower()\n",
        "\n",
        "  if box_choice == \"white\":\n",
        "    print('Oops! you oppend a box filled with snkes')\n",
        "  elif box_choice == \"green\":\n",
        "   print('congratulations! you found the treasure!')\n",
        "\n",
        "  elif box_choice == \"black\":\n",
        "   print('Oops! you opend a box filled with spiders')\n",
        "\n",
        "  else:\n",
        "    print('Invalid choice!')\n",
        "\n",
        "elif door_choice == 'blue':\n",
        "  print('Oops you chose crocodile door.')\n",
        "  print('Game over!')\n",
        "\n",
        "else:\n",
        "  print('Invalid choice!')"
      ]
    }
  ],
  "metadata": {
    "colab": {
      "name": "Welcome To Colaboratory",
      "provenance": []
    },
    "kernelspec": {
      "display_name": "Python 3",
      "name": "python3"
    }
  },
  "nbformat": 4,
  "nbformat_minor": 0
}
